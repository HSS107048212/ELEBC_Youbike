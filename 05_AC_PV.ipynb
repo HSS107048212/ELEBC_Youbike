{
  "nbformat": 4,
  "nbformat_minor": 0,
  "metadata": {
    "colab": {
      "provenance": [],
      "authorship_tag": "ABX9TyNFpCj9ncUQb+nShYZko2tF",
      "include_colab_link": true
    },
    "kernelspec": {
      "name": "python3",
      "display_name": "Python 3"
    },
    "language_info": {
      "name": "python"
    }
  },
  "cells": [
    {
      "cell_type": "markdown",
      "metadata": {
        "id": "view-in-github",
        "colab_type": "text"
      },
      "source": [
        "<a href=\"https://colab.research.google.com/github/HSS107048212/ELEBC_Youbike/blob/main/05_AC_PV.ipynb\" target=\"_parent\"><img src=\"https://colab.research.google.com/assets/colab-badge.svg\" alt=\"Open In Colab\"/></a>"
      ]
    },
    {
      "cell_type": "markdown",
      "source": [
        "## Get Excel in the folder"
      ],
      "metadata": {
        "id": "EBrom5UuBJTV"
      }
    },
    {
      "cell_type": "code",
      "source": [
        "# 讀取資料夾中的excel檔名\n",
        "import os\n",
        "import pandas as pd\n",
        "# 指定你的目錄路徑\n",
        "directory_path = '/content/'\n",
        "# C:/Users/Elebc_GPU_Server/Desktop/排程抓資料/\n",
        "# /content/\n",
        "\n",
        "\n",
        "# 獲取目錄中的所有檔案和子目錄名稱\n",
        "files_and_directories = os.listdir(directory_path)\n",
        "print(files_and_directories)\n",
        "file=[]\n",
        "for item in files_and_directories:\n",
        "    # 檢查是否包含指定日期和文件名\n",
        "    if \"0015_Youbike_cleaned\" in item:\n",
        "        print(\"Matched File:\", item)\n",
        "        file.append(item)\n",
        "\n",
        "# 打印出列表\n",
        "print(file)"
      ],
      "metadata": {
        "colab": {
          "base_uri": "https://localhost:8080/"
        },
        "id": "U0ONihyVjIFU",
        "outputId": "b4e007f6-6db9-45ca-e65f-aa0a454aee15"
      },
      "execution_count": 29,
      "outputs": [
        {
          "output_type": "stream",
          "name": "stdout",
          "text": [
            "['.config', '2024-04-14 0015_Youbike_cleaned.xlsx', '2024-04-15 merged_data.xlsx', '2024-04-13 0015_Youbike_cleaned.xlsx', '04-22 EV_data.xlsx', '2024-04-13 0530_Youbike_cleaned.xlsx', 'rich-operand-418201-63c868c738c8.json', '2024-04-14 merged_data.xlsx', '2024-04-13 merged_data.xlsx', 'sample_data']\n",
            "Matched File: 2024-04-14 0015_Youbike_cleaned.xlsx\n",
            "Matched File: 2024-04-13 0015_Youbike_cleaned.xlsx\n",
            "['2024-04-14 0015_Youbike_cleaned.xlsx', '2024-04-13 0015_Youbike_cleaned.xlsx']\n"
          ]
        }
      ]
    },
    {
      "cell_type": "markdown",
      "source": [
        "## Filter the start day (UI: days)"
      ],
      "metadata": {
        "id": "VrT5l3QlnElf"
      }
    },
    {
      "cell_type": "code",
      "source": [
        "import os\n",
        "import datetime\n",
        "\n",
        "# 獲取今天的日期\n",
        "today = datetime.date.today()\n",
        "\n",
        "# 計算 ? 天前的日期開始的資料\n",
        "## 後續會接for迴圈，所以假設days=5，那麼前5天，前4天，前3天，前2天，前1天都會被計算。\n",
        "## 如果days=1，那麼就是算前1天。\n",
        "days_ago = today - datetime.timedelta(days=11) #後續更改----------------------------------------------------------------------------\n",
        "\n",
        "# 將日期格式化為 YYYY-MM-DD\n",
        "formatted_date = days_ago.strftime('%Y-%m-%d')\n",
        "print(formatted_date)\n",
        "\n",
        "\n",
        "# 排序文件名列表，假設日期和時間格式固定，可以直接按字符串排序\n",
        "matched_files = [f for f in file if formatted_date <= f ]\n",
        "matched_files = sorted(matched_files)\n",
        "\n",
        "# 打印出匹配的文件名\n",
        "print(matched_files)"
      ],
      "metadata": {
        "colab": {
          "base_uri": "https://localhost:8080/"
        },
        "id": "qkeQmvI9jQk7",
        "outputId": "3654971d-6e2a-4ebf-dd52-d712237d7345"
      },
      "execution_count": 30,
      "outputs": [
        {
          "output_type": "stream",
          "name": "stdout",
          "text": [
            "2024-04-13\n",
            "['2024-04-13 0015_Youbike_cleaned.xlsx', '2024-04-14 0015_Youbike_cleaned.xlsx']\n"
          ]
        }
      ]
    },
    {
      "cell_type": "markdown",
      "source": [
        "## Processing Function: Compute AC (UI: Rides_day_for_breakeven)"
      ],
      "metadata": {
        "id": "_f3MpsmABPSs"
      }
    },
    {
      "cell_type": "code",
      "source": [
        "import numpy as np\n",
        "def ac (df):\n",
        "  Rides_day_for_breakeven = 93667\n",
        "  # Why Rides_day_for_breakeven is 93667? you can check on https://docs.google.com/presentation/d/1tBNcwg75QwaClUM5m2wP-YxiqWZI_SR3Ztjk6YZLKsw/edit#slide=id.g26e84c87d13_0_209\n",
        "  df[\"AC\"] = np.ceil(Rides_day_for_breakeven * df[\"tot\"] / sum(df[\"tot\"]))\n",
        "  return df"
      ],
      "metadata": {
        "id": "vOWst6oJ_6M_"
      },
      "execution_count": 31,
      "outputs": []
    },
    {
      "cell_type": "markdown",
      "source": [
        "## Processing Function: Compute PV (UI: Expected_usage_percentage)"
      ],
      "metadata": {
        "id": "8no7IkbZBVMs"
      }
    },
    {
      "cell_type": "code",
      "source": [
        "def pv (df):\n",
        "  Expected_usage_percentage = 0.05\n",
        "  # Why Expected_usage_percentage is 0.05 ? you can check on https://docs.google.com/presentation/d/1tBNcwg75QwaClUM5m2wP-YxiqWZI_SR3Ztjk6YZLKsw/edit#slide=id.g26e84c87d13_0_242\n",
        "  df[\"PV\"] = np.ceil(df[\"tot\"] * Expected_usage_percentage *95)\n",
        "  return df"
      ],
      "metadata": {
        "id": "o8NIw7vjClYC"
      },
      "execution_count": 32,
      "outputs": []
    },
    {
      "cell_type": "markdown",
      "source": [
        "## Import AC_PV file to Google drive"
      ],
      "metadata": {
        "id": "tT1rNn-6Cl5q"
      }
    },
    {
      "cell_type": "code",
      "source": [
        "from google.oauth2 import service_account\n",
        "from googleapiclient.discovery import build\n",
        "from googleapiclient.http import MediaFileUpload\n",
        "\n",
        "# 設置Google Drive API的認證\n",
        "credentials = service_account.Credentials.from_service_account_file(\n",
        "    f'{directory_path}rich-operand-418201-63c868c738c8.json',  # 請替換成你的認證文件路徑\n",
        "    scopes=['https://www.googleapis.com/auth/drive']\n",
        ")\n",
        "\n",
        "# 創建Google Drive API的服務\n",
        "drive_service = build('drive', 'v3', credentials=credentials)\n",
        "# 要上傳到的Google Drive文件夾的ID\n",
        "folder_id = '1aeTv-6l0nfmpEAfKHBvd7l5p0l9Kfplb'  # 請替換成目標文件夾的ID\n",
        "\n"
      ],
      "metadata": {
        "id": "g6hK3ikXoxRc"
      },
      "execution_count": 33,
      "outputs": []
    },
    {
      "cell_type": "markdown",
      "source": [
        "## Main Function: Input Youbike 2.0 Data to Processing Function"
      ],
      "metadata": {
        "id": "00tpHPHdqtqC"
      }
    },
    {
      "cell_type": "code",
      "source": [
        "files = [(f\"{directory_path}{filename}\", filename[0:10]) for filename in matched_files]\n",
        "print(files)\n",
        "print()\n",
        "\n",
        "for file_path, time_label in files:\n",
        "    print(file_path)\n",
        "    print(time_label)\n",
        "    # Read data from file\n",
        "    data = pd.read_excel(file_path)\n",
        "    selected_columns = ['sno', 'sna',\"sarea\",\"ar\",\"lat\",\"lng\",'tot','infoDate']\n",
        "    # 创建新的DataFrame，只包含选定的列\n",
        "    data= data[selected_columns]\n",
        "\n",
        "    AC_data = ac(data)\n",
        "    PV_data = pv(data)\n",
        "\n",
        "    PV_data.to_excel(f\"{time_label} AC_PV.xlsx\", index=False)  # index=False to avoid writing row indices to the file\n",
        "\n",
        "    # 要上傳的Excel文件路徑\n",
        "    excel_file_path = f'{directory_path}{time_label} AC_PV.xlsx'  # 請替換成你的Excel文件路徑\n",
        "    import os\n",
        "    # 上傳文件\n",
        "    file_metadata = {\n",
        "        'name': os.path.basename(excel_file_path),\n",
        "        'parents': [folder_id]\n",
        "    }\n",
        "    media = MediaFileUpload(excel_file_path, mimetype='application/vnd.openxmlformats-officedocument.spreadsheetml.sheet')\n",
        "    file = drive_service.files().create(body=file_metadata, media_body=media, fields='id').execute()\n",
        "\n",
        "    print('File ID: %s' % file.get('id'))"
      ],
      "metadata": {
        "colab": {
          "base_uri": "https://localhost:8080/"
        },
        "id": "N3MuhscFoQpe",
        "outputId": "0b03d542-3893-499a-d092-7a77be77ae9e"
      },
      "execution_count": 35,
      "outputs": [
        {
          "output_type": "stream",
          "name": "stdout",
          "text": [
            "[('/content/2024-04-13 0015_Youbike_cleaned.xlsx', '2024-04-13'), ('/content/2024-04-14 0015_Youbike_cleaned.xlsx', '2024-04-14')]\n",
            "\n",
            "/content/2024-04-13 0015_Youbike_cleaned.xlsx\n",
            "2024-04-13\n",
            "File ID: 1QGu5GAbO4zaaCEVL3kBh-Pru0khLACdt\n",
            "/content/2024-04-14 0015_Youbike_cleaned.xlsx\n",
            "2024-04-14\n",
            "File ID: 1FfFwNSy2hu40Fx4uPUhHGmKGrVnvc1PE\n"
          ]
        }
      ]
    }
  ]
}